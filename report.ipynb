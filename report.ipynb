{
 "cells": [
  {
   "cell_type": "markdown",
   "id": "da713771-7fa6-4c00-ac1c-7b466165955d",
   "metadata": {},
   "source": [
    "# Report"
   ]
  },
  {
   "cell_type": "markdown",
   "id": "1f18b5a6-9277-4298-b3d9-82b8d893f8a3",
   "metadata": {},
   "source": [
    "### Motivation & Introduction"
   ]
  },
  {
   "cell_type": "markdown",
   "id": "fa287b1d-ed26-44d2-b0bb-b5ac42541890",
   "metadata": {},
   "source": [
    "As a semi-new resident in Seattle, I am curious how crimes looked like in Seattle. Especially during the eventful 2020. I want to investigate do events like COVID and BLM affect crimes. Do crime rates differ given time and area. This project only focused on burglary crimes but can be easily adapted to process other kinds of crimes. In this project, I am using the Seattle goverment database on crimes https://data.seattle.gov/Public-Safety/SPD-Crime-Data-2008-Present/tazs-3rd5. This database has a Public Domain License. It contains the time, type of crime, and other data in it from 2008 to now. Government data is reliable and it contain data that my intended goal.  "
   ]
  },
  {
   "cell_type": "markdown",
   "id": "4db2e6e5-7d26-4040-a11b-f537cf44874c",
   "metadata": {},
   "source": [
    "### Background and Related Work"
   ]
  },
  {
   "cell_type": "markdown",
   "id": "a443ecda-17d7-4b2a-aacc-0380d216e85e",
   "metadata": {},
   "source": [
    "The following links are researches already done in this area.   \n",
    "https://econofact.org/crime-in-the-time-of-covid.  \n",
    "The above article did research on all crime in the US and analyzed the impact of COVID and a little bit BLM. For burglary, this article finds that residential burglary decreases and non-residential burglary increases. But it does not have any information on the overall COVID impact on burglary (and also not a local analysis). I want to find out if Seattle follows the trend of the US or if it has a surprising outcome.  \n",
    "https://en.wikipedia.org/wiki/Impact_of_the_COVID-19_pandemic_on_crime  \n",
    "The Wikipedia page of Impact of the COVID-19 pandemic on crime stated that some type of crime dropped significantly while other increase. Burglary does not seem to be in the increasing crime category. The Wikipedia page gives five types of main increasing crime including Counterfeiting and fraud, Cybercrime, Domestic violence, Hate crimes, and Terrorist attacks. In the hate crime section it stated \"increase of hate crime incidents against Asian Americans\". This makes me wonder if Seattle has the same problem, but unfortunately the database I plan to use does not have a hate crime category.  "
   ]
  },
  {
   "cell_type": "markdown",
   "id": "22ffee17-d5aa-496e-8737-8ac84e16ef43",
   "metadata": {},
   "source": [
    "### Research Questions and Hypotheses"
   ]
  },
  {
   "cell_type": "markdown",
   "id": "5147ff52-9dab-4a30-9eb2-946e383728d1",
   "metadata": {},
   "source": [
    "1. Q1: What is the impact of days in a week on the number of Burglaries?\n",
    "   H: Burglary happens more on weekdays than on weekends (explanation: people are more likely to stay home on the weekend which makes burglary hard.).\n",
    "2. Q2: How has COVID impact on numbers of Burglary?\n",
    "   H: Burglary decrease during COVID (explanation: people are more likely to be at home.).\n",
    "3. Q3: How has BLM incidence impact on numbers of Burglary?\n",
    "   H: Burglary increases a little bit during BLM incidence (explanation: heard a lot of smashing shops on the news.).\n",
    "4. Q4: How does the crime rate around UW compare to the rest of the Seattle Area?\n",
    "   H: The area around UW has less crime (I hope)."
   ]
  },
  {
   "cell_type": "markdown",
   "id": "0609e21a-987b-4013-8183-30b840587f7d",
   "metadata": {},
   "source": [
    "### Methodology"
   ]
  },
  {
   "cell_type": "markdown",
   "id": "b6139898-bcc7-47db-a702-198530148312",
   "metadata": {},
   "source": [
    "The project's code part is in Python in Jupyter Notebook. The library used in this project including **pandas**, **calendar**, **matplotlib**,  **seaborn**. The database is processed and cleaned using pandas and calendar library.  \n",
    "Only **Report Number**, **Offense Start DateTime**, **Offense Parent Group**, and **Offense** column are keeped from the original database.  \n",
    "Only rows with 'Burglary/Breaking & Entering' in column **Offense**  are kept.\n",
    "Data without time column are droped.  \n",
    "- **Report Number**: Primary key/UID for the overall report. One report can contain multiple offenses, as denoted by the Offense ID.\n",
    "- **Offense Start DateTime**: Start date and time the offense(s) occurred.\n",
    "- **Offense Parent Group**: Offense parent group.\n",
    "- **Offense**: Corresponding offense.  \n",
    "- I applyed an additional column **day_of_week** to the database and saved to **Burglary_Crime_Q1.csv**.  \n",
    "- I applyed an additional column **Month** and **Year** to the database and saved to **Burglary_Crime_Q2.csv**."
   ]
  },
  {
   "cell_type": "markdown",
   "id": "118ca9ae-63b0-4d3b-901c-c213c0a22fd2",
   "metadata": {},
   "source": [
    "Code for research question 1 is in the file **Q1.ipynb**. Produce graph **day_of_week_burglary.png**  \n",
    "Code for research question 2 is in the file **Q2.ipynb**. Produce graph **COVID_Burglary.png**  \n",
    "Code for research question 3 is in the file **Q2.ipynb**. Produce graph **BLM_Burglary.png**."
   ]
  },
  {
   "cell_type": "markdown",
   "id": "52a573a8-01dd-4226-919f-8c556536dc80",
   "metadata": {},
   "source": [
    "### Findings"
   ]
  },
  {
   "cell_type": "markdown",
   "id": "5d00007e-18e9-4082-aadb-12a9dd5f1e28",
   "metadata": {},
   "source": [
    "Q1: impact of days in a week on the number of Burglaries  \n",
    "![day of week vs burglary](day_of_week_burglary.png)  \n",
    "- From the graph it seems that burglaries happened less on weekends and more on Friday."
   ]
  },
  {
   "cell_type": "markdown",
   "id": "bc25ece5-eb8a-44df-995d-e889940bd75b",
   "metadata": {},
   "source": [
    "Q2: impact of COVID on the number of Burglaries  \n",
    "![COVID vs burglary](COVID_Burglary.png)  \n",
    "- The number of burglaries seems to be droping after the stay-at-home order."
   ]
  },
  {
   "cell_type": "markdown",
   "id": "68553d63-af9b-48d6-9fbf-7aa4f0e309a9",
   "metadata": {},
   "source": [
    "Q3: impact of BLM on the number of Burglaries  \n",
    "![BLM vs burglary](BLM_Burglary.png)  \n",
    "- The number of burglaries seems to be increasing after the BLM protest."
   ]
  },
  {
   "cell_type": "markdown",
   "id": "90cddb84-36aa-4cb4-805f-cf2f2233ce9b",
   "metadata": {},
   "source": [
    "### Conclusion"
   ]
  },
  {
   "cell_type": "markdown",
   "id": "8e120e76-075a-4cda-b97c-355249db41af",
   "metadata": {},
   "source": [
    "Burglaries seem to happen less on weekends and more on Friday. The number of burglaries seems to be dropping after the stay-at-home order and increasing after the BLM protest. A possible explanation is that it is hard to rob a home when the owner of the house is in the house, but it also makes it easy to rob companies. Further research can be done to see if there is a causation relationship between COVID and burglary crimes.  \n",
    "For the rise of number after BLM protest, one explanation can be that it had been two month after the stay-at-home order, people get board at home, and there were a lot of report on breaking in shops. So people start going out again, which give burglaries more chance."
   ]
  },
  {
   "cell_type": "code",
   "execution_count": null,
   "id": "c117756f-f1d5-4b3d-9191-721ef09a7e32",
   "metadata": {},
   "outputs": [],
   "source": []
  }
 ],
 "metadata": {
  "kernelspec": {
   "display_name": "Python 3",
   "language": "python",
   "name": "python3"
  },
  "language_info": {
   "codemirror_mode": {
    "name": "ipython",
    "version": 3
   },
   "file_extension": ".py",
   "mimetype": "text/x-python",
   "name": "python",
   "nbconvert_exporter": "python",
   "pygments_lexer": "ipython3",
   "version": "3.8.8"
  }
 },
 "nbformat": 4,
 "nbformat_minor": 5
}
