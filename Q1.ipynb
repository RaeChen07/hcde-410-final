{
 "cells": [
  {
   "cell_type": "markdown",
   "id": "0c65802c-4875-4941-a9d4-94176414e19d",
   "metadata": {},
   "source": [
    "## Q1: What is the impact of days in a week on the number of Burglaries?"
   ]
  },
  {
   "cell_type": "markdown",
   "id": "597b42c1-89ae-458d-893c-aa6e7aaa6034",
   "metadata": {},
   "source": [
    "Use pandas to cleaning up the data to contain only 'Report Number','Offense Start DateTime','Offense Parent Group',and 'Offense'. Sort all the 'Offense' being 'Burglary/Breaking & Entering' out."
   ]
  },
  {
   "cell_type": "code",
   "execution_count": 18,
   "id": "9d476982-01f3-4922-a4e8-285b9b15e0c7",
   "metadata": {},
   "outputs": [],
   "source": [
    "import pandas as pd\n",
    "import calendar\n",
    "\n",
    "\n",
    "all_crime_data = pd.read_csv('SPD_Crime_Data__2008-Present.csv')\n",
    "all_crime_data_clean = all_crime_data[['Report Number','Offense Start DateTime','Offense Parent Group','Offense']]\n",
    "burglary_crime = all_crime_data_clean[all_crime_data_clean['Offense'] == 'Burglary/Breaking & Entering']\n"
   ]
  },
  {
   "cell_type": "markdown",
   "id": "2fb0db5f-09f2-465b-8960-6972e9dcf9b2",
   "metadata": {},
   "source": [
    "Drop all row without a 'Offense Start DateTime'. Use calendaer to add column 'day_of_week' to the dataframe and save it in a new csv file called Burglary_Crime_Q1.csv."
   ]
  },
  {
   "cell_type": "code",
   "execution_count": 54,
   "id": "7246cd2d-59ac-4591-8fd9-55244d251564",
   "metadata": {},
   "outputs": [
    {
     "data": {
      "text/html": [
       "<div>\n",
       "<style scoped>\n",
       "    .dataframe tbody tr th:only-of-type {\n",
       "        vertical-align: middle;\n",
       "    }\n",
       "\n",
       "    .dataframe tbody tr th {\n",
       "        vertical-align: top;\n",
       "    }\n",
       "\n",
       "    .dataframe thead th {\n",
       "        text-align: right;\n",
       "    }\n",
       "</style>\n",
       "<table border=\"1\" class=\"dataframe\">\n",
       "  <thead>\n",
       "    <tr style=\"text-align: right;\">\n",
       "      <th></th>\n",
       "      <th>Report Number</th>\n",
       "      <th>Offense Start DateTime</th>\n",
       "      <th>Offense Parent Group</th>\n",
       "      <th>Offense</th>\n",
       "      <th>day_of_week</th>\n",
       "    </tr>\n",
       "  </thead>\n",
       "  <tbody>\n",
       "    <tr>\n",
       "      <th>581466</th>\n",
       "      <td>2020-043922</td>\n",
       "      <td>2020-02-04 18:54:00</td>\n",
       "      <td>BURGLARY/BREAKING&amp;ENTERING</td>\n",
       "      <td>Burglary/Breaking &amp; Entering</td>\n",
       "      <td>Tuesday</td>\n",
       "    </tr>\n",
       "    <tr>\n",
       "      <th>581469</th>\n",
       "      <td>2020-043871</td>\n",
       "      <td>2020-02-01 00:00:00</td>\n",
       "      <td>BURGLARY/BREAKING&amp;ENTERING</td>\n",
       "      <td>Burglary/Breaking &amp; Entering</td>\n",
       "      <td>Saturday</td>\n",
       "    </tr>\n",
       "    <tr>\n",
       "      <th>581472</th>\n",
       "      <td>2020-043640</td>\n",
       "      <td>2020-02-04 00:00:00</td>\n",
       "      <td>BURGLARY/BREAKING&amp;ENTERING</td>\n",
       "      <td>Burglary/Breaking &amp; Entering</td>\n",
       "      <td>Tuesday</td>\n",
       "    </tr>\n",
       "    <tr>\n",
       "      <th>581473</th>\n",
       "      <td>2020-043634</td>\n",
       "      <td>2020-02-03 23:00:00</td>\n",
       "      <td>BURGLARY/BREAKING&amp;ENTERING</td>\n",
       "      <td>Burglary/Breaking &amp; Entering</td>\n",
       "      <td>Monday</td>\n",
       "    </tr>\n",
       "    <tr>\n",
       "      <th>581474</th>\n",
       "      <td>2020-043594</td>\n",
       "      <td>2020-01-31 18:00:00</td>\n",
       "      <td>BURGLARY/BREAKING&amp;ENTERING</td>\n",
       "      <td>Burglary/Breaking &amp; Entering</td>\n",
       "      <td>Friday</td>\n",
       "    </tr>\n",
       "  </tbody>\n",
       "</table>\n",
       "</div>"
      ],
      "text/plain": [
       "       Report Number Offense Start DateTime        Offense Parent Group  \\\n",
       "581466   2020-043922    2020-02-04 18:54:00  BURGLARY/BREAKING&ENTERING   \n",
       "581469   2020-043871    2020-02-01 00:00:00  BURGLARY/BREAKING&ENTERING   \n",
       "581472   2020-043640    2020-02-04 00:00:00  BURGLARY/BREAKING&ENTERING   \n",
       "581473   2020-043634    2020-02-03 23:00:00  BURGLARY/BREAKING&ENTERING   \n",
       "581474   2020-043594    2020-01-31 18:00:00  BURGLARY/BREAKING&ENTERING   \n",
       "\n",
       "                             Offense day_of_week  \n",
       "581466  Burglary/Breaking & Entering     Tuesday  \n",
       "581469  Burglary/Breaking & Entering    Saturday  \n",
       "581472  Burglary/Breaking & Entering     Tuesday  \n",
       "581473  Burglary/Breaking & Entering      Monday  \n",
       "581474  Burglary/Breaking & Entering      Friday  "
      ]
     },
     "execution_count": 54,
     "metadata": {},
     "output_type": "execute_result"
    }
   ],
   "source": [
    "\n",
    "burglary_crime['Offense Start DateTime'] = pd.to_datetime(burglary_crime['Offense Start DateTime'])\n",
    "\n",
    "burglary_crime['day_of_week'] = burglary_crime['Offense Start DateTime'].apply(lambda x: x.weekday()) # get the weekday index, between 0 and 6\n",
    "nan_value = float(\"NaN\")\n",
    "burglary_crime.replace(\"\", nan_value, inplace=True)\n",
    "burglary_crime = burglary_crime.dropna(subset=['day_of_week'])\n",
    "burglary_crime['day_of_week'] = burglary_crime['day_of_week'].apply(lambda x: calendar.day_name[int(x)])\n",
    "burglary_crime.to_csv('Burglary_Crime_Q1.csv')\n",
    "burglary_crime.head()"
   ]
  },
  {
   "cell_type": "code",
   "execution_count": 50,
   "id": "b6bd54d1-186d-4a8d-86f9-e1f4aeadc0a6",
   "metadata": {},
   "outputs": [
    {
     "data": {
      "image/png": "[encoded data removed]",
      "text/plain": [
       "<Figure size 360x360 with 1 Axes>"
      ]
     },
     "metadata": {
      "needs_background": "light"
     },
     "output_type": "display_data"
    }
   ],
   "source": [
    "import matplotlib.pyplot as plt\n",
    "import seaborn as sns\n",
    "\n",
    "sns.catplot(x='day_of_week', kind='count', data=burglary_crime, order=['Monday','Tuesday','Wednesday','Thursday','Friday','Saturday','Sunday'])\n",
    "plt.title('Day in a Week v.s. Number of Burglaries')\n",
    "plt.xlabel('Day of Week')\n",
    "plt.ylabel('Number of Burglaries')\n",
    "# Save the plot to a file\n",
    "plt.savefig('day_of_week_burglary.png', bbox_inches='tight')"
   ]
  },
  {
   "cell_type": "markdown",
   "id": "33fa154d-e971-48bc-bdff-e131c8cc307e",
   "metadata": {},
   "source": [
    "Use matplotlib and seaborn to plot the graph."
   ]
  }
 ],
 "metadata": {
  "kernelspec": {
   "display_name": "Python 3",
   "language": "python",
   "name": "python3"
  },
  "language_info": {
   "codemirror_mode": {
    "name": "ipython",
    "version": 3
   },
   "file_extension": ".py",
   "mimetype": "text/x-python",
   "name": "python",
   "nbconvert_exporter": "python",
   "pygments_lexer": "ipython3",
   "version": "3.8.8"
  }
 },
 "nbformat": 4,
 "nbformat_minor": 5
}
